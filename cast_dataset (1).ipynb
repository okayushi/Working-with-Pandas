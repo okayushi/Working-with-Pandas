{
  "cells": [
    {
      "cell_type": "code",
      "execution_count": null,
      "metadata": {
        "id": "eqaDJkVPq4Gf"
      },
      "outputs": [],
      "source": [
        "%matplotlib inline\n",
        "import pandas as pd"
      ]
    },
    {
      "cell_type": "code",
      "execution_count": null,
      "metadata": {
        "id": "n3Yfr8x-q4Gq",
        "outputId": "5c0adc17-78b8-4b51-94db-896dd44cdf00"
      },
      "outputs": [
        {
          "data": {
            "text/html": [
              "<div>\n",
              "<style scoped>\n",
              "    .dataframe tbody tr th:only-of-type {\n",
              "        vertical-align: middle;\n",
              "    }\n",
              "\n",
              "    .dataframe tbody tr th {\n",
              "        vertical-align: top;\n",
              "    }\n",
              "\n",
              "    .dataframe thead th {\n",
              "        text-align: right;\n",
              "    }\n",
              "</style>\n",
              "<table border=\"1\" class=\"dataframe\">\n",
              "  <thead>\n",
              "    <tr style=\"text-align: right;\">\n",
              "      <th></th>\n",
              "      <th>title</th>\n",
              "      <th>year</th>\n",
              "      <th>name</th>\n",
              "      <th>type</th>\n",
              "      <th>character</th>\n",
              "      <th>n</th>\n",
              "    </tr>\n",
              "  </thead>\n",
              "  <tbody>\n",
              "    <tr>\n",
              "      <th>0</th>\n",
              "      <td>Closet Monster</td>\n",
              "      <td>2015</td>\n",
              "      <td>Buffy #1</td>\n",
              "      <td>actor</td>\n",
              "      <td>Buffy 4</td>\n",
              "      <td>NaN</td>\n",
              "    </tr>\n",
              "    <tr>\n",
              "      <th>1</th>\n",
              "      <td>Suuri illusioni</td>\n",
              "      <td>1985</td>\n",
              "      <td>Homo $</td>\n",
              "      <td>actor</td>\n",
              "      <td>Guests</td>\n",
              "      <td>22.0</td>\n",
              "    </tr>\n",
              "    <tr>\n",
              "      <th>2</th>\n",
              "      <td>Battle of the Sexes</td>\n",
              "      <td>2017</td>\n",
              "      <td>$hutter</td>\n",
              "      <td>actor</td>\n",
              "      <td>Bobby Riggs Fan</td>\n",
              "      <td>10.0</td>\n",
              "    </tr>\n",
              "    <tr>\n",
              "      <th>3</th>\n",
              "      <td>Secret in Their Eyes</td>\n",
              "      <td>2015</td>\n",
              "      <td>$hutter</td>\n",
              "      <td>actor</td>\n",
              "      <td>2002 Dodger Fan</td>\n",
              "      <td>NaN</td>\n",
              "    </tr>\n",
              "    <tr>\n",
              "      <th>4</th>\n",
              "      <td>Steve Jobs</td>\n",
              "      <td>2015</td>\n",
              "      <td>$hutter</td>\n",
              "      <td>actor</td>\n",
              "      <td>1988 Opera House Patron</td>\n",
              "      <td>NaN</td>\n",
              "    </tr>\n",
              "  </tbody>\n",
              "</table>\n",
              "</div>"
            ],
            "text/plain": [
              "                  title  year      name   type                character     n\n",
              "0        Closet Monster  2015  Buffy #1  actor                  Buffy 4   NaN\n",
              "1       Suuri illusioni  1985    Homo $  actor                   Guests  22.0\n",
              "2   Battle of the Sexes  2017   $hutter  actor          Bobby Riggs Fan  10.0\n",
              "3  Secret in Their Eyes  2015   $hutter  actor          2002 Dodger Fan   NaN\n",
              "4            Steve Jobs  2015   $hutter  actor  1988 Opera House Patron   NaN"
            ]
          },
          "execution_count": 2,
          "metadata": {},
          "output_type": "execute_result"
        }
      ],
      "source": [
        "cast = pd.read_csv('data/cast.csv')\n",
        "cast.head()"
      ]
    },
    {
      "cell_type": "markdown",
      "metadata": {
        "collapsed": true,
        "id": "2ktg9xcOq4Gu"
      },
      "source": [
        "### How many movies are listed in the titles dataframe?"
      ]
    },
    {
      "cell_type": "code",
      "execution_count": null,
      "metadata": {
        "id": "CgSitteLq4Gy"
      },
      "outputs": [],
      "source": [
        "tot_mov_cnt = cast.shape[0]"
      ]
    },
    {
      "cell_type": "code",
      "execution_count": null,
      "metadata": {
        "id": "gPSTuS-Fq4Gz",
        "outputId": "98cc35bc-b20a-4169-8a4a-3e06136cf743"
      },
      "outputs": [
        {
          "name": "stdout",
          "output_type": "stream",
          "text": [
            "Total movies are listed in the dataframe is 3611212\n"
          ]
        }
      ],
      "source": [
        "print(f\"Total movies are listed in the dataframe is {tot_mov_cnt}\")"
      ]
    },
    {
      "cell_type": "markdown",
      "metadata": {
        "collapsed": true,
        "id": "tpDhWSQrq4G1"
      },
      "source": [
        "### What are the earliest two films listed in the titles dataframe?"
      ]
    },
    {
      "cell_type": "code",
      "execution_count": null,
      "metadata": {
        "id": "-XlqDolEq4G2"
      },
      "outputs": [],
      "source": [
        "sorted_df = cast.sort_values(by = \"year\", ascending = True)\n",
        "year_lst = sorted_df[\"year\"].unique()[:2]\n",
        "ind_df = sorted_df.set_index(\"year\")\n",
        "early_mov_lst = ind_df.loc[year_lst][\"title\"].unique()"
      ]
    },
    {
      "cell_type": "code",
      "execution_count": null,
      "metadata": {
        "id": "kesIwOvZq4G4",
        "outputId": "1ab3015b-f226-4e91-dc4d-e8750314ee7f"
      },
      "outputs": [
        {
          "name": "stdout",
          "output_type": "stream",
          "text": [
            "The earliest two films listed in the dataframe are 'Miss Jerry' and 'Soldiers of the Cross'\n"
          ]
        }
      ],
      "source": [
        "print(f\"The earliest two films listed in the dataframe are '{early_mov_lst[0]}' and '{early_mov_lst[1]}'\")"
      ]
    },
    {
      "cell_type": "markdown",
      "metadata": {
        "collapsed": true,
        "id": "kJFYMahkq4G5"
      },
      "source": [
        "### How many movies have the title \"Hamlet\"?"
      ]
    },
    {
      "cell_type": "code",
      "execution_count": null,
      "metadata": {
        "id": "xfQP3vk9q4G6"
      },
      "outputs": [],
      "source": [
        "ind_df = cast.set_index(\"title\")\n",
        "mov_cnt = ind_df.loc[\"Hamlet\"].shape[0]\n",
        "#ind_df.loc[\"Hamlet\"].sort_values(by = \"year\", ascending = True)"
      ]
    },
    {
      "cell_type": "code",
      "execution_count": null,
      "metadata": {
        "id": "5toZqigtq4G7",
        "outputId": "63627a47-a42b-463b-def5-bd274f237428"
      },
      "outputs": [
        {
          "name": "stdout",
          "output_type": "stream",
          "text": [
            "Total movies with title 'Hamlet' is 313\n"
          ]
        }
      ],
      "source": [
        "print(f\"Total movies with title 'Hamlet' is {mov_cnt}\")"
      ]
    },
    {
      "cell_type": "markdown",
      "metadata": {
        "collapsed": true,
        "id": "HntK3IgKq4G8"
      },
      "source": [
        "### How many movies are titled \"North by Northwest\"?"
      ]
    },
    {
      "cell_type": "code",
      "execution_count": null,
      "metadata": {
        "id": "wsMTQ-u-q4G9"
      },
      "outputs": [],
      "source": [
        "mov_north_cnt = ind_df.loc[\"North by Northwest\"].shape[0]"
      ]
    },
    {
      "cell_type": "code",
      "execution_count": null,
      "metadata": {
        "id": "vc-tSBfoq4G-",
        "outputId": "61f87c1f-12ea-46b0-9515-ee045c6fc784"
      },
      "outputs": [
        {
          "name": "stdout",
          "output_type": "stream",
          "text": [
            "Total movies with title 'North by Northwest' is 112\n"
          ]
        }
      ],
      "source": [
        "print(f\"Total movies with title 'North by Northwest' is {mov_north_cnt}\")"
      ]
    },
    {
      "cell_type": "markdown",
      "metadata": {
        "collapsed": true,
        "id": "NAcnAynEq4G-"
      },
      "source": [
        "### When was the first movie titled \"Hamlet\" made?"
      ]
    },
    {
      "cell_type": "code",
      "execution_count": null,
      "metadata": {
        "id": "rr0e5Gzrq4G_"
      },
      "outputs": [],
      "source": [
        "year_val = ind_df.loc[\"Hamlet\"].sort_values(by = \"year\", ascending = True)[\"year\"].values[0]"
      ]
    },
    {
      "cell_type": "code",
      "execution_count": null,
      "metadata": {
        "id": "VKZato_jq4G_",
        "outputId": "094acfa8-394e-410a-c865-3db66dc85782"
      },
      "outputs": [
        {
          "name": "stdout",
          "output_type": "stream",
          "text": [
            "The first movie titled 'Hamlet' made on 1910\n"
          ]
        }
      ],
      "source": [
        "print(f\"The first movie titled 'Hamlet' made on {year_val}\")"
      ]
    },
    {
      "cell_type": "markdown",
      "metadata": {
        "collapsed": true,
        "id": "BUXdX0kDq4HA"
      },
      "source": [
        "### List all of the \"Treasure Island\" movies from earliest to most recent."
      ]
    },
    {
      "cell_type": "code",
      "execution_count": null,
      "metadata": {
        "id": "cPP1moOUq4HA"
      },
      "outputs": [],
      "source": [
        "treasure_df = ind_df.loc[\"Treasure Island\"].sort_values(by = \"year\", ascending = True).reset_index()"
      ]
    },
    {
      "cell_type": "code",
      "execution_count": null,
      "metadata": {
        "id": "E1Mpq0dHq4HB",
        "outputId": "9ecdfaff-9345-4c19-d7ad-035cc506a7e8"
      },
      "outputs": [
        {
          "data": {
            "text/html": [
              "<div>\n",
              "<style scoped>\n",
              "    .dataframe tbody tr th:only-of-type {\n",
              "        vertical-align: middle;\n",
              "    }\n",
              "\n",
              "    .dataframe tbody tr th {\n",
              "        vertical-align: top;\n",
              "    }\n",
              "\n",
              "    .dataframe thead th {\n",
              "        text-align: right;\n",
              "    }\n",
              "</style>\n",
              "<table border=\"1\" class=\"dataframe\">\n",
              "  <thead>\n",
              "    <tr style=\"text-align: right;\">\n",
              "      <th></th>\n",
              "      <th>title</th>\n",
              "      <th>year</th>\n",
              "      <th>name</th>\n",
              "      <th>type</th>\n",
              "      <th>character</th>\n",
              "      <th>n</th>\n",
              "    </tr>\n",
              "  </thead>\n",
              "  <tbody>\n",
              "    <tr>\n",
              "      <th>0</th>\n",
              "      <td>Treasure Island</td>\n",
              "      <td>1918</td>\n",
              "      <td>Charles Gorman</td>\n",
              "      <td>actor</td>\n",
              "      <td>Prologue Player</td>\n",
              "      <td>NaN</td>\n",
              "    </tr>\n",
              "    <tr>\n",
              "      <th>1</th>\n",
              "      <td>Treasure Island</td>\n",
              "      <td>1918</td>\n",
              "      <td>Joe Grant</td>\n",
              "      <td>actor</td>\n",
              "      <td>Undetermined child role</td>\n",
              "      <td>NaN</td>\n",
              "    </tr>\n",
              "    <tr>\n",
              "      <th>2</th>\n",
              "      <td>Treasure Island</td>\n",
              "      <td>1918</td>\n",
              "      <td>Edwin Harley</td>\n",
              "      <td>actor</td>\n",
              "      <td>Prologue Player</td>\n",
              "      <td>NaN</td>\n",
              "    </tr>\n",
              "    <tr>\n",
              "      <th>3</th>\n",
              "      <td>Treasure Island</td>\n",
              "      <td>1918</td>\n",
              "      <td>Violet Radcliffe</td>\n",
              "      <td>actress</td>\n",
              "      <td>Long John Silver</td>\n",
              "      <td>3.0</td>\n",
              "    </tr>\n",
              "    <tr>\n",
              "      <th>4</th>\n",
              "      <td>Treasure Island</td>\n",
              "      <td>1918</td>\n",
              "      <td>Lloyd Perl</td>\n",
              "      <td>actor</td>\n",
              "      <td>Black Dog</td>\n",
              "      <td>4.0</td>\n",
              "    </tr>\n",
              "    <tr>\n",
              "      <th>...</th>\n",
              "      <td>...</td>\n",
              "      <td>...</td>\n",
              "      <td>...</td>\n",
              "      <td>...</td>\n",
              "      <td>...</td>\n",
              "      <td>...</td>\n",
              "    </tr>\n",
              "    <tr>\n",
              "      <th>185</th>\n",
              "      <td>Treasure Island</td>\n",
              "      <td>1999</td>\n",
              "      <td>Caveh Zahedi</td>\n",
              "      <td>actor</td>\n",
              "      <td>Harold</td>\n",
              "      <td>9.0</td>\n",
              "    </tr>\n",
              "    <tr>\n",
              "      <th>186</th>\n",
              "      <td>Treasure Island</td>\n",
              "      <td>1999</td>\n",
              "      <td>Nick Offerman</td>\n",
              "      <td>actor</td>\n",
              "      <td>Samuel</td>\n",
              "      <td>2.0</td>\n",
              "    </tr>\n",
              "    <tr>\n",
              "      <th>187</th>\n",
              "      <td>Treasure Island</td>\n",
              "      <td>1999</td>\n",
              "      <td>J.P. Manoux</td>\n",
              "      <td>actor</td>\n",
              "      <td>Officer Hughes</td>\n",
              "      <td>18.0</td>\n",
              "    </tr>\n",
              "    <tr>\n",
              "      <th>188</th>\n",
              "      <td>Treasure Island</td>\n",
              "      <td>1999</td>\n",
              "      <td>Victor Raider-Wexler</td>\n",
              "      <td>actor</td>\n",
              "      <td>Samowitz</td>\n",
              "      <td>10.0</td>\n",
              "    </tr>\n",
              "    <tr>\n",
              "      <th>189</th>\n",
              "      <td>Treasure Island</td>\n",
              "      <td>1999</td>\n",
              "      <td>Bob Byington</td>\n",
              "      <td>actor</td>\n",
              "      <td>Thomas</td>\n",
              "      <td>12.0</td>\n",
              "    </tr>\n",
              "  </tbody>\n",
              "</table>\n",
              "<p>190 rows × 6 columns</p>\n",
              "</div>"
            ],
            "text/plain": [
              "               title  year                  name     type  \\\n",
              "0    Treasure Island  1918        Charles Gorman    actor   \n",
              "1    Treasure Island  1918             Joe Grant    actor   \n",
              "2    Treasure Island  1918          Edwin Harley    actor   \n",
              "3    Treasure Island  1918      Violet Radcliffe  actress   \n",
              "4    Treasure Island  1918            Lloyd Perl    actor   \n",
              "..               ...   ...                   ...      ...   \n",
              "185  Treasure Island  1999          Caveh Zahedi    actor   \n",
              "186  Treasure Island  1999         Nick Offerman    actor   \n",
              "187  Treasure Island  1999           J.P. Manoux    actor   \n",
              "188  Treasure Island  1999  Victor Raider-Wexler    actor   \n",
              "189  Treasure Island  1999          Bob Byington    actor   \n",
              "\n",
              "                   character     n  \n",
              "0            Prologue Player   NaN  \n",
              "1    Undetermined child role   NaN  \n",
              "2            Prologue Player   NaN  \n",
              "3           Long John Silver   3.0  \n",
              "4                  Black Dog   4.0  \n",
              "..                       ...   ...  \n",
              "185                   Harold   9.0  \n",
              "186                   Samuel   2.0  \n",
              "187           Officer Hughes  18.0  \n",
              "188                 Samowitz  10.0  \n",
              "189                   Thomas  12.0  \n",
              "\n",
              "[190 rows x 6 columns]"
            ]
          },
          "execution_count": 14,
          "metadata": {},
          "output_type": "execute_result"
        }
      ],
      "source": [
        "treasure_df"
      ]
    },
    {
      "cell_type": "markdown",
      "metadata": {
        "collapsed": true,
        "id": "Z8c_omk2q4HC"
      },
      "source": [
        "### How many movies were made in the year 1950?"
      ]
    },
    {
      "cell_type": "code",
      "execution_count": null,
      "metadata": {
        "id": "sL8mpF54q4HC"
      },
      "outputs": [],
      "source": [
        "mov_cnt = cast.set_index(\"year\").loc[1950].shape[0]"
      ]
    },
    {
      "cell_type": "code",
      "execution_count": null,
      "metadata": {
        "id": "0h42ot5bq4HC",
        "outputId": "fcd35804-85d8-4a19-ec91-f5b268064529"
      },
      "outputs": [
        {
          "name": "stdout",
          "output_type": "stream",
          "text": [
            "Total no of movies were made in the year 1950 is 22006\n"
          ]
        }
      ],
      "source": [
        "print(f\"Total no of movies were made in the year 1950 is {mov_cnt}\")"
      ]
    },
    {
      "cell_type": "markdown",
      "metadata": {
        "collapsed": true,
        "id": "s8wIJ3wVq4HD"
      },
      "source": [
        "### How many movies were made in the year 1960?"
      ]
    },
    {
      "cell_type": "code",
      "execution_count": null,
      "metadata": {
        "id": "770t0HkKq4HD"
      },
      "outputs": [],
      "source": [
        "mov_cnt = cast.set_index(\"year\").loc[1960].shape[0]"
      ]
    },
    {
      "cell_type": "code",
      "execution_count": null,
      "metadata": {
        "id": "33dycR0Mq4HE",
        "outputId": "7bea22a5-6cd2-45a7-b0e0-f7146b59935c"
      },
      "outputs": [
        {
          "name": "stdout",
          "output_type": "stream",
          "text": [
            "Total no of movies were made in the year 1960 is 18456\n"
          ]
        }
      ],
      "source": [
        "print(f\"Total no of movies were made in the year 1960 is {mov_cnt}\")"
      ]
    },
    {
      "cell_type": "markdown",
      "metadata": {
        "collapsed": true,
        "id": "u8JIro_mq4HE"
      },
      "source": [
        "### How many movies were made from 1950 through 1959?"
      ]
    },
    {
      "cell_type": "code",
      "execution_count": null,
      "metadata": {
        "id": "pZuUXTcCq4HF"
      },
      "outputs": [],
      "source": [
        "year_lst = [val for val in range(1950, 1960)]\n",
        "mov_cnt = cast.set_index(\"year\").loc[year_lst].shape[0]"
      ]
    },
    {
      "cell_type": "code",
      "execution_count": null,
      "metadata": {
        "id": "6zcYvMRoq4HF",
        "outputId": "e17b67a7-a339-4371-bff8-1992e3b7f904"
      },
      "outputs": [
        {
          "name": "stdout",
          "output_type": "stream",
          "text": [
            "Total no of movies were made from 1950 through 1959 is 210986\n"
          ]
        }
      ],
      "source": [
        "print(f\"Total no of movies were made from 1950 through 1959 is {mov_cnt}\")"
      ]
    },
    {
      "cell_type": "markdown",
      "metadata": {
        "collapsed": true,
        "id": "VVx2sC9aq4HG"
      },
      "source": [
        "### In what years has a movie titled \"Batman\" been released?"
      ]
    },
    {
      "cell_type": "code",
      "execution_count": null,
      "metadata": {
        "id": "4uUMJk5vq4HG"
      },
      "outputs": [],
      "source": [
        "mov_year_lst = ind_df.loc[\"Batman\"][\"year\"].unique()"
      ]
    },
    {
      "cell_type": "code",
      "execution_count": null,
      "metadata": {
        "id": "7T4aFQoUq4HH",
        "outputId": "da803e38-2a1d-4759-ffff-a3676fdb4249"
      },
      "outputs": [
        {
          "data": {
            "text/plain": [
              "array([1943, 1989], dtype=int64)"
            ]
          },
          "execution_count": 22,
          "metadata": {},
          "output_type": "execute_result"
        }
      ],
      "source": [
        "mov_year_lst"
      ]
    },
    {
      "cell_type": "markdown",
      "metadata": {
        "collapsed": true,
        "id": "w0-FC8zCq4HI"
      },
      "source": [
        "### How many roles were there in the movie \"Inception\"?"
      ]
    },
    {
      "cell_type": "code",
      "execution_count": null,
      "metadata": {
        "id": "AQDR8izqq4HI"
      },
      "outputs": [],
      "source": [
        "role_cnt = ind_df.loc[\"Inception\"][\"type\"].shape[0]"
      ]
    },
    {
      "cell_type": "code",
      "execution_count": null,
      "metadata": {
        "id": "mbBV5C_Zq4HJ",
        "outputId": "6f81aa94-398b-4d28-d0f5-f880176437b9"
      },
      "outputs": [
        {
          "name": "stdout",
          "output_type": "stream",
          "text": [
            "Total no of roles were there in the movie 'Inception' is 77\n"
          ]
        }
      ],
      "source": [
        "print(f\"Total no of roles were there in the movie 'Inception' is {role_cnt}\")"
      ]
    },
    {
      "cell_type": "markdown",
      "metadata": {
        "collapsed": true,
        "id": "C97s6XSTq4HJ"
      },
      "source": [
        "### How many roles in the movie \"Inception\" are NOT ranked by an \"n\" value?"
      ]
    },
    {
      "cell_type": "code",
      "execution_count": null,
      "metadata": {
        "id": "8oNnVgt9q4HK"
      },
      "outputs": [],
      "source": [
        "role_n_cnt = ind_df.loc[\"Inception\"][\"n\"].isnull().sum()"
      ]
    },
    {
      "cell_type": "code",
      "execution_count": null,
      "metadata": {
        "id": "QwIh6WMVq4HK",
        "outputId": "75ea202d-aab2-4b31-fa38-5b9f2085915b"
      },
      "outputs": [
        {
          "name": "stdout",
          "output_type": "stream",
          "text": [
            "Total no of roles in the movie 'Inception' are NOT ranked by 'n' value is 26\n"
          ]
        }
      ],
      "source": [
        "print(f\"Total no of roles in the movie 'Inception' are NOT ranked by 'n' value is {role_n_cnt}\")"
      ]
    },
    {
      "cell_type": "markdown",
      "metadata": {
        "collapsed": true,
        "id": "HTbW5KWcq4HK"
      },
      "source": [
        "### But how many roles in the movie \"Inception\" did receive an \"n\" value?"
      ]
    },
    {
      "cell_type": "code",
      "execution_count": null,
      "metadata": {
        "id": "0VCM75Szq4HX"
      },
      "outputs": [],
      "source": [
        "role_without_n_cnt = ind_df.loc[\"Inception\"][\"n\"].notnull().sum()"
      ]
    },
    {
      "cell_type": "code",
      "execution_count": null,
      "metadata": {
        "id": "MN4DAOw5q4HY",
        "outputId": "1a6358c7-a609-47e3-a017-46006b979d31"
      },
      "outputs": [
        {
          "name": "stdout",
          "output_type": "stream",
          "text": [
            "Total no of roles in the movie 'Inception' received an 'n' value is 51\n"
          ]
        }
      ],
      "source": [
        "print(f\"Total no of roles in the movie 'Inception' received an 'n' value is {role_without_n_cnt}\")"
      ]
    },
    {
      "cell_type": "markdown",
      "metadata": {
        "collapsed": true,
        "id": "KkLJDXHSq4Hd"
      },
      "source": [
        "### Display the cast of \"North by Northwest\" in their correct \"n\"-value order, ignoring roles that did not earn a numeric \"n\" value."
      ]
    },
    {
      "cell_type": "code",
      "execution_count": null,
      "metadata": {
        "id": "h0aTr7wmq4He"
      },
      "outputs": [],
      "source": [
        "name_df = ind_df.loc[\"North by Northwest\"].sort_values(by = \"n\", ascending = True)\n",
        "df = name_df.loc[name_df[\"n\"].notnull()]"
      ]
    },
    {
      "cell_type": "code",
      "execution_count": null,
      "metadata": {
        "id": "sSi2Y4cqq4He",
        "outputId": "cd03e5ce-6407-4ff9-83d8-48586d8efe6e"
      },
      "outputs": [
        {
          "data": {
            "text/html": [
              "<div>\n",
              "<style scoped>\n",
              "    .dataframe tbody tr th:only-of-type {\n",
              "        vertical-align: middle;\n",
              "    }\n",
              "\n",
              "    .dataframe tbody tr th {\n",
              "        vertical-align: top;\n",
              "    }\n",
              "\n",
              "    .dataframe thead th {\n",
              "        text-align: right;\n",
              "    }\n",
              "</style>\n",
              "<table border=\"1\" class=\"dataframe\">\n",
              "  <thead>\n",
              "    <tr style=\"text-align: right;\">\n",
              "      <th></th>\n",
              "      <th>year</th>\n",
              "      <th>name</th>\n",
              "      <th>type</th>\n",
              "      <th>character</th>\n",
              "      <th>n</th>\n",
              "    </tr>\n",
              "    <tr>\n",
              "      <th>title</th>\n",
              "      <th></th>\n",
              "      <th></th>\n",
              "      <th></th>\n",
              "      <th></th>\n",
              "      <th></th>\n",
              "    </tr>\n",
              "  </thead>\n",
              "  <tbody>\n",
              "    <tr>\n",
              "      <th>North by Northwest</th>\n",
              "      <td>1959</td>\n",
              "      <td>Cary Grant</td>\n",
              "      <td>actor</td>\n",
              "      <td>Roger O. Thornhill</td>\n",
              "      <td>1.0</td>\n",
              "    </tr>\n",
              "    <tr>\n",
              "      <th>North by Northwest</th>\n",
              "      <td>1959</td>\n",
              "      <td>Eva Marie Saint</td>\n",
              "      <td>actress</td>\n",
              "      <td>Eve Kendall</td>\n",
              "      <td>2.0</td>\n",
              "    </tr>\n",
              "    <tr>\n",
              "      <th>North by Northwest</th>\n",
              "      <td>1959</td>\n",
              "      <td>James Mason</td>\n",
              "      <td>actor</td>\n",
              "      <td>Phillip Vandamm</td>\n",
              "      <td>3.0</td>\n",
              "    </tr>\n",
              "    <tr>\n",
              "      <th>North by Northwest</th>\n",
              "      <td>1959</td>\n",
              "      <td>Jessie Royce Landis</td>\n",
              "      <td>actress</td>\n",
              "      <td>Clara Thornhill</td>\n",
              "      <td>4.0</td>\n",
              "    </tr>\n",
              "    <tr>\n",
              "      <th>North by Northwest</th>\n",
              "      <td>1959</td>\n",
              "      <td>Leo G. Carroll</td>\n",
              "      <td>actor</td>\n",
              "      <td>The Professor</td>\n",
              "      <td>5.0</td>\n",
              "    </tr>\n",
              "    <tr>\n",
              "      <th>North by Northwest</th>\n",
              "      <td>1959</td>\n",
              "      <td>Josephine Hutchinson</td>\n",
              "      <td>actress</td>\n",
              "      <td>Mrs. Townsend</td>\n",
              "      <td>6.0</td>\n",
              "    </tr>\n",
              "    <tr>\n",
              "      <th>North by Northwest</th>\n",
              "      <td>1959</td>\n",
              "      <td>Philip Ober</td>\n",
              "      <td>actor</td>\n",
              "      <td>Lester Townsend</td>\n",
              "      <td>7.0</td>\n",
              "    </tr>\n",
              "    <tr>\n",
              "      <th>North by Northwest</th>\n",
              "      <td>1959</td>\n",
              "      <td>Martin Landau</td>\n",
              "      <td>actor</td>\n",
              "      <td>Leonard</td>\n",
              "      <td>8.0</td>\n",
              "    </tr>\n",
              "    <tr>\n",
              "      <th>North by Northwest</th>\n",
              "      <td>1959</td>\n",
              "      <td>Adam Williams</td>\n",
              "      <td>actor</td>\n",
              "      <td>Valerian</td>\n",
              "      <td>9.0</td>\n",
              "    </tr>\n",
              "    <tr>\n",
              "      <th>North by Northwest</th>\n",
              "      <td>1959</td>\n",
              "      <td>Edward Platt</td>\n",
              "      <td>actor</td>\n",
              "      <td>Victor Larrabee</td>\n",
              "      <td>10.0</td>\n",
              "    </tr>\n",
              "    <tr>\n",
              "      <th>North by Northwest</th>\n",
              "      <td>1959</td>\n",
              "      <td>Robert Ellenstein</td>\n",
              "      <td>actor</td>\n",
              "      <td>Licht</td>\n",
              "      <td>11.0</td>\n",
              "    </tr>\n",
              "    <tr>\n",
              "      <th>North by Northwest</th>\n",
              "      <td>1959</td>\n",
              "      <td>Les Tremayne</td>\n",
              "      <td>actor</td>\n",
              "      <td>Auctioneer</td>\n",
              "      <td>12.0</td>\n",
              "    </tr>\n",
              "    <tr>\n",
              "      <th>North by Northwest</th>\n",
              "      <td>1959</td>\n",
              "      <td>Philip Coolidge</td>\n",
              "      <td>actor</td>\n",
              "      <td>Dr. Cross</td>\n",
              "      <td>13.0</td>\n",
              "    </tr>\n",
              "    <tr>\n",
              "      <th>North by Northwest</th>\n",
              "      <td>1959</td>\n",
              "      <td>Patrick McVey</td>\n",
              "      <td>actor</td>\n",
              "      <td>Sergeant Flamm</td>\n",
              "      <td>14.0</td>\n",
              "    </tr>\n",
              "    <tr>\n",
              "      <th>North by Northwest</th>\n",
              "      <td>1959</td>\n",
              "      <td>Edward Binns</td>\n",
              "      <td>actor</td>\n",
              "      <td>Captain Junket</td>\n",
              "      <td>15.0</td>\n",
              "    </tr>\n",
              "    <tr>\n",
              "      <th>North by Northwest</th>\n",
              "      <td>1959</td>\n",
              "      <td>Ken Lynch</td>\n",
              "      <td>actor</td>\n",
              "      <td>Charley - Chicago Policeman</td>\n",
              "      <td>16.0</td>\n",
              "    </tr>\n",
              "  </tbody>\n",
              "</table>\n",
              "</div>"
            ],
            "text/plain": [
              "                    year                  name     type  \\\n",
              "title                                                     \n",
              "North by Northwest  1959            Cary Grant    actor   \n",
              "North by Northwest  1959       Eva Marie Saint  actress   \n",
              "North by Northwest  1959           James Mason    actor   \n",
              "North by Northwest  1959   Jessie Royce Landis  actress   \n",
              "North by Northwest  1959        Leo G. Carroll    actor   \n",
              "North by Northwest  1959  Josephine Hutchinson  actress   \n",
              "North by Northwest  1959           Philip Ober    actor   \n",
              "North by Northwest  1959         Martin Landau    actor   \n",
              "North by Northwest  1959         Adam Williams    actor   \n",
              "North by Northwest  1959          Edward Platt    actor   \n",
              "North by Northwest  1959     Robert Ellenstein    actor   \n",
              "North by Northwest  1959          Les Tremayne    actor   \n",
              "North by Northwest  1959       Philip Coolidge    actor   \n",
              "North by Northwest  1959         Patrick McVey    actor   \n",
              "North by Northwest  1959          Edward Binns    actor   \n",
              "North by Northwest  1959             Ken Lynch    actor   \n",
              "\n",
              "                                      character     n  \n",
              "title                                                  \n",
              "North by Northwest           Roger O. Thornhill   1.0  \n",
              "North by Northwest                  Eve Kendall   2.0  \n",
              "North by Northwest              Phillip Vandamm   3.0  \n",
              "North by Northwest              Clara Thornhill   4.0  \n",
              "North by Northwest                The Professor   5.0  \n",
              "North by Northwest                Mrs. Townsend   6.0  \n",
              "North by Northwest              Lester Townsend   7.0  \n",
              "North by Northwest                      Leonard   8.0  \n",
              "North by Northwest                     Valerian   9.0  \n",
              "North by Northwest              Victor Larrabee  10.0  \n",
              "North by Northwest                        Licht  11.0  \n",
              "North by Northwest                   Auctioneer  12.0  \n",
              "North by Northwest                    Dr. Cross  13.0  \n",
              "North by Northwest               Sergeant Flamm  14.0  \n",
              "North by Northwest               Captain Junket  15.0  \n",
              "North by Northwest  Charley - Chicago Policeman  16.0  "
            ]
          },
          "execution_count": 30,
          "metadata": {},
          "output_type": "execute_result"
        }
      ],
      "source": [
        "df"
      ]
    },
    {
      "cell_type": "markdown",
      "metadata": {
        "collapsed": true,
        "id": "dZ4jQarXq4Hf"
      },
      "source": [
        "### Display the entire cast, in \"n\"-order, of the 1972 film \"Sleuth\"."
      ]
    },
    {
      "cell_type": "code",
      "execution_count": null,
      "metadata": {
        "id": "zT2LU54Eq4Hg"
      },
      "outputs": [],
      "source": [
        "film_df = ind_df.loc[\"Sleuth\"]\n",
        "df = film_df.loc[film_df[\"year\"] == 1972].sort_values(by = \"n\", ascending = False).head(1)"
      ]
    },
    {
      "cell_type": "code",
      "execution_count": null,
      "metadata": {
        "id": "C00RHU0Wq4Hg",
        "outputId": "f39c6d66-63f0-4954-a011-67f811da9a33"
      },
      "outputs": [
        {
          "data": {
            "text/html": [
              "<div>\n",
              "<style scoped>\n",
              "    .dataframe tbody tr th:only-of-type {\n",
              "        vertical-align: middle;\n",
              "    }\n",
              "\n",
              "    .dataframe tbody tr th {\n",
              "        vertical-align: top;\n",
              "    }\n",
              "\n",
              "    .dataframe thead th {\n",
              "        text-align: right;\n",
              "    }\n",
              "</style>\n",
              "<table border=\"1\" class=\"dataframe\">\n",
              "  <thead>\n",
              "    <tr style=\"text-align: right;\">\n",
              "      <th></th>\n",
              "      <th>year</th>\n",
              "      <th>name</th>\n",
              "      <th>type</th>\n",
              "      <th>character</th>\n",
              "      <th>n</th>\n",
              "    </tr>\n",
              "    <tr>\n",
              "      <th>title</th>\n",
              "      <th></th>\n",
              "      <th></th>\n",
              "      <th></th>\n",
              "      <th></th>\n",
              "      <th></th>\n",
              "    </tr>\n",
              "  </thead>\n",
              "  <tbody>\n",
              "    <tr>\n",
              "      <th>Sleuth</th>\n",
              "      <td>1972</td>\n",
              "      <td>Teddy Martin</td>\n",
              "      <td>actor</td>\n",
              "      <td>Police Constable Higgs</td>\n",
              "      <td>6.0</td>\n",
              "    </tr>\n",
              "  </tbody>\n",
              "</table>\n",
              "</div>"
            ],
            "text/plain": [
              "        year          name   type               character    n\n",
              "title                                                         \n",
              "Sleuth  1972  Teddy Martin  actor  Police Constable Higgs  6.0"
            ]
          },
          "execution_count": 32,
          "metadata": {},
          "output_type": "execute_result"
        }
      ],
      "source": [
        "df"
      ]
    },
    {
      "cell_type": "markdown",
      "metadata": {
        "collapsed": true,
        "id": "S8b2mh7tq4Hh"
      },
      "source": [
        "### Now display the entire cast, in \"n\"-order, of the 2007 version of \"Sleuth\"."
      ]
    },
    {
      "cell_type": "code",
      "execution_count": null,
      "metadata": {
        "id": "b2pbQUI_q4Hh"
      },
      "outputs": [],
      "source": [
        "film_df = ind_df.loc[\"Sleuth\"]\n",
        "df = film_df.loc[film_df[\"year\"] == 2007].sort_values(by = \"n\", ascending = False).head(1)"
      ]
    },
    {
      "cell_type": "code",
      "execution_count": null,
      "metadata": {
        "id": "g5ED5MBRq4Hi",
        "outputId": "28399b25-23da-44dd-c159-702e4b766b5d"
      },
      "outputs": [
        {
          "data": {
            "text/html": [
              "<div>\n",
              "<style scoped>\n",
              "    .dataframe tbody tr th:only-of-type {\n",
              "        vertical-align: middle;\n",
              "    }\n",
              "\n",
              "    .dataframe tbody tr th {\n",
              "        vertical-align: top;\n",
              "    }\n",
              "\n",
              "    .dataframe thead th {\n",
              "        text-align: right;\n",
              "    }\n",
              "</style>\n",
              "<table border=\"1\" class=\"dataframe\">\n",
              "  <thead>\n",
              "    <tr style=\"text-align: right;\">\n",
              "      <th></th>\n",
              "      <th>year</th>\n",
              "      <th>name</th>\n",
              "      <th>type</th>\n",
              "      <th>character</th>\n",
              "      <th>n</th>\n",
              "    </tr>\n",
              "    <tr>\n",
              "      <th>title</th>\n",
              "      <th></th>\n",
              "      <th></th>\n",
              "      <th></th>\n",
              "      <th></th>\n",
              "      <th></th>\n",
              "    </tr>\n",
              "  </thead>\n",
              "  <tbody>\n",
              "    <tr>\n",
              "      <th>Sleuth</th>\n",
              "      <td>2007</td>\n",
              "      <td>Harold Pinter</td>\n",
              "      <td>actor</td>\n",
              "      <td>Man on T.V.</td>\n",
              "      <td>3.0</td>\n",
              "    </tr>\n",
              "  </tbody>\n",
              "</table>\n",
              "</div>"
            ],
            "text/plain": [
              "        year           name   type    character    n\n",
              "title                                               \n",
              "Sleuth  2007  Harold Pinter  actor  Man on T.V.  3.0"
            ]
          },
          "execution_count": 34,
          "metadata": {},
          "output_type": "execute_result"
        }
      ],
      "source": [
        "df"
      ]
    },
    {
      "cell_type": "markdown",
      "metadata": {
        "collapsed": true,
        "id": "kAZOtit8q4Hi"
      },
      "source": [
        "### How many roles were credited in the silent 1921 version of Hamlet?"
      ]
    },
    {
      "cell_type": "code",
      "execution_count": null,
      "metadata": {
        "id": "Xbh4Q5Npq4Hj"
      },
      "outputs": [],
      "source": [
        "film_df = ind_df.loc[\"Hamlet\"]\n",
        "role_cnt = film_df.loc[film_df[\"year\"] == 1921].shape[0]"
      ]
    },
    {
      "cell_type": "code",
      "execution_count": null,
      "metadata": {
        "id": "Q9GxOczGq4Hk",
        "outputId": "7416a89a-3ac3-4c59-ed65-93b717cc9c4e"
      },
      "outputs": [
        {
          "name": "stdout",
          "output_type": "stream",
          "text": [
            "Total no of roles were credited in the silent 1921 version of Hamlet is 9\n"
          ]
        }
      ],
      "source": [
        "print(f\"Total no of roles were credited in the silent 1921 version of Hamlet is {role_cnt}\")"
      ]
    },
    {
      "cell_type": "markdown",
      "metadata": {
        "collapsed": true,
        "id": "zBdBoH5Fq4Hl"
      },
      "source": [
        "### How many roles were credited in Branagh’s 1996 Hamlet?"
      ]
    },
    {
      "cell_type": "code",
      "execution_count": null,
      "metadata": {
        "id": "mkmumB05q4Hm"
      },
      "outputs": [],
      "source": [
        "film_df = ind_df.loc[\"Hamlet\"]\n",
        "role_cnt = film_df.loc[film_df[\"year\"] == 1996].shape[0]"
      ]
    },
    {
      "cell_type": "code",
      "execution_count": null,
      "metadata": {
        "id": "3gU33NFDq4Hn",
        "outputId": "406603b3-7d96-4de8-ba61-1f3393a6248c"
      },
      "outputs": [
        {
          "name": "stdout",
          "output_type": "stream",
          "text": [
            "Total no of roles were credited in the silent 1996 version of Hamlet is 54\n"
          ]
        }
      ],
      "source": [
        "print(f\"Total no of roles were credited in the silent 1996 version of Hamlet is {role_cnt}\")"
      ]
    },
    {
      "cell_type": "markdown",
      "metadata": {
        "collapsed": true,
        "id": "eJT1DnPnq4Hn"
      },
      "source": [
        "### How many \"Hamlet\" roles have been listed in all film credits through history?"
      ]
    },
    {
      "cell_type": "code",
      "execution_count": null,
      "metadata": {
        "id": "fln3A0O8q4Ho"
      },
      "outputs": [],
      "source": [
        "role_cnt = ind_df.loc[\"Hamlet\"].shape[0]"
      ]
    },
    {
      "cell_type": "code",
      "execution_count": null,
      "metadata": {
        "id": "UdOYUKIBq4Hp",
        "outputId": "6235ff56-177f-4245-bd75-e08134396208"
      },
      "outputs": [
        {
          "name": "stdout",
          "output_type": "stream",
          "text": [
            "Total no of Hamlet roles have been listed in all film credits through history is 313\n"
          ]
        }
      ],
      "source": [
        "print(f\"Total no of Hamlet roles have been listed in all film credits through history is {role_cnt}\")"
      ]
    },
    {
      "cell_type": "markdown",
      "metadata": {
        "collapsed": true,
        "id": "zpQUSb8Uq4Hp"
      },
      "source": [
        "### How many people have played an \"Ophelia\"?"
      ]
    },
    {
      "cell_type": "code",
      "execution_count": null,
      "metadata": {
        "id": "Ql0ugr56q4Hq"
      },
      "outputs": [],
      "source": [
        "mov_cnt = ind_df.loc[\"Ophelia\"].shape[0]"
      ]
    },
    {
      "cell_type": "code",
      "execution_count": null,
      "metadata": {
        "id": "nR-GFnCpq4Hq",
        "outputId": "2392d73b-5abc-404d-a624-c639b87869a7"
      },
      "outputs": [
        {
          "name": "stdout",
          "output_type": "stream",
          "text": [
            "Total no of people have played an 'Ophelia' is 2\n"
          ]
        }
      ],
      "source": [
        "print(f\"Total no of people have played an 'Ophelia' is {mov_cnt}\")"
      ]
    },
    {
      "cell_type": "markdown",
      "metadata": {
        "collapsed": true,
        "id": "akZWC7uoq4Hr"
      },
      "source": [
        "### How many people have played a role called \"The Dude\"?"
      ]
    },
    {
      "cell_type": "code",
      "execution_count": null,
      "metadata": {
        "id": "-EmLHI-Dq4Hr"
      },
      "outputs": [],
      "source": [
        "new_ind_df = cast.set_index(\"character\")\n",
        "mov_cnt = new_ind_df.loc[\"The Dude\"].shape[0]"
      ]
    },
    {
      "cell_type": "code",
      "execution_count": null,
      "metadata": {
        "id": "yCqGubOPq4Hr",
        "outputId": "923a56a9-ac73-4e0a-fb85-3c73a75bfd61"
      },
      "outputs": [
        {
          "name": "stdout",
          "output_type": "stream",
          "text": [
            "Total no of people have played a role called 'The Dude' is 18\n"
          ]
        }
      ],
      "source": [
        "print(f\"Total no of people have played a role called 'The Dude' is {mov_cnt}\")"
      ]
    },
    {
      "cell_type": "markdown",
      "metadata": {
        "collapsed": true,
        "id": "jygfcrQAq4Hs"
      },
      "source": [
        "### How many people have played a role called \"The Stranger\"?"
      ]
    },
    {
      "cell_type": "code",
      "execution_count": null,
      "metadata": {
        "id": "RHOOF_9vq4Hs"
      },
      "outputs": [],
      "source": [
        "mov_cnt = new_ind_df.loc[\"The Stranger\"].shape[0]"
      ]
    },
    {
      "cell_type": "code",
      "execution_count": null,
      "metadata": {
        "id": "fc57hO1Rq4Ht",
        "outputId": "062d7a59-b735-4251-ac35-49bbf9c4a356"
      },
      "outputs": [
        {
          "name": "stdout",
          "output_type": "stream",
          "text": [
            "Total no of people have played a role called 'The Stranger' is 208\n"
          ]
        }
      ],
      "source": [
        "print(f\"Total no of people have played a role called 'The Stranger' is {mov_cnt}\")"
      ]
    },
    {
      "cell_type": "markdown",
      "metadata": {
        "collapsed": true,
        "id": "0og5VP6Sq4Ht"
      },
      "source": [
        "### How many roles has Sidney Poitier played throughout his career?"
      ]
    },
    {
      "cell_type": "code",
      "execution_count": null,
      "metadata": {
        "id": "cNaBBkR9q4Hu"
      },
      "outputs": [],
      "source": [
        "name_ind_df = cast.set_index(\"name\")\n",
        "mov_cnt = name_ind_df.loc[\"Sidney Poitier\"].shape[0]"
      ]
    },
    {
      "cell_type": "code",
      "execution_count": null,
      "metadata": {
        "id": "d6ziy_j-q4Hv",
        "outputId": "1da4a05b-06e2-406a-a347-be955932611f"
      },
      "outputs": [
        {
          "name": "stdout",
          "output_type": "stream",
          "text": [
            "Total no of roles Sidney Politier has played throughout his career is 43\n"
          ]
        }
      ],
      "source": [
        "print(f\"Total no of roles Sidney Politier has played throughout his career is {mov_cnt}\")"
      ]
    },
    {
      "cell_type": "markdown",
      "metadata": {
        "collapsed": true,
        "id": "S8i5CQx9q4Hv"
      },
      "source": [
        "### How many roles has Judi Dench played?"
      ]
    },
    {
      "cell_type": "code",
      "execution_count": null,
      "metadata": {
        "id": "ImVIKoy6q4Hw"
      },
      "outputs": [],
      "source": [
        "mov_cnt = name_ind_df.loc[\"Judi Dench\"].shape[0]"
      ]
    },
    {
      "cell_type": "code",
      "execution_count": null,
      "metadata": {
        "id": "tKuKjQznq4Hx",
        "outputId": "f7833ca0-58c6-4957-e291-e7c586a9fae7"
      },
      "outputs": [
        {
          "name": "stdout",
          "output_type": "stream",
          "text": [
            "Total no of roles Judi Dench has played is 55\n"
          ]
        }
      ],
      "source": [
        "print(f\"Total no of roles Judi Dench has played is {mov_cnt}\")"
      ]
    },
    {
      "cell_type": "markdown",
      "metadata": {
        "collapsed": true,
        "id": "vKIcK1bvq4Hx"
      },
      "source": [
        "### List the supporting roles (having n=2) played by Cary Grant in the 1940s, in order by year."
      ]
    },
    {
      "cell_type": "code",
      "execution_count": null,
      "metadata": {
        "id": "MEPjyxWqq4Hy"
      },
      "outputs": [],
      "source": [
        "index_df = cast.set_index([\"name\", \"year\", \"n\"])\n",
        "yr_lst = [val for val in range(1940, 1950)]\n",
        "new_df = index_df.loc[(\"Cary Grant\", yr_lst, 2)].sort_index(ascending = True).reset_index()"
      ]
    },
    {
      "cell_type": "code",
      "execution_count": null,
      "metadata": {
        "id": "Rr9RLc6Oq4Hy",
        "outputId": "70054ded-8911-4c73-943b-b43e57fd2e85"
      },
      "outputs": [
        {
          "data": {
            "text/html": [
              "<div>\n",
              "<style scoped>\n",
              "    .dataframe tbody tr th:only-of-type {\n",
              "        vertical-align: middle;\n",
              "    }\n",
              "\n",
              "    .dataframe tbody tr th {\n",
              "        vertical-align: top;\n",
              "    }\n",
              "\n",
              "    .dataframe thead th {\n",
              "        text-align: right;\n",
              "    }\n",
              "</style>\n",
              "<table border=\"1\" class=\"dataframe\">\n",
              "  <thead>\n",
              "    <tr style=\"text-align: right;\">\n",
              "      <th></th>\n",
              "      <th>name</th>\n",
              "      <th>year</th>\n",
              "      <th>n</th>\n",
              "      <th>title</th>\n",
              "      <th>type</th>\n",
              "      <th>character</th>\n",
              "    </tr>\n",
              "  </thead>\n",
              "  <tbody>\n",
              "    <tr>\n",
              "      <th>0</th>\n",
              "      <td>Cary Grant</td>\n",
              "      <td>1940</td>\n",
              "      <td>2.0</td>\n",
              "      <td>My Favorite Wife</td>\n",
              "      <td>actor</td>\n",
              "      <td>Nick</td>\n",
              "    </tr>\n",
              "    <tr>\n",
              "      <th>1</th>\n",
              "      <td>Cary Grant</td>\n",
              "      <td>1941</td>\n",
              "      <td>2.0</td>\n",
              "      <td>Penny Serenade</td>\n",
              "      <td>actor</td>\n",
              "      <td>Roger Adams</td>\n",
              "    </tr>\n",
              "  </tbody>\n",
              "</table>\n",
              "</div>"
            ],
            "text/plain": [
              "         name  year    n             title   type    character\n",
              "0  Cary Grant  1940  2.0  My Favorite Wife  actor         Nick\n",
              "1  Cary Grant  1941  2.0    Penny Serenade  actor  Roger Adams"
            ]
          },
          "execution_count": 52,
          "metadata": {},
          "output_type": "execute_result"
        }
      ],
      "source": [
        "new_df"
      ]
    },
    {
      "cell_type": "markdown",
      "metadata": {
        "collapsed": true,
        "id": "VKKWTYiWq4Hz"
      },
      "source": [
        "### List the leading roles that Cary Grant played in the 1940s in order by year."
      ]
    },
    {
      "cell_type": "code",
      "execution_count": null,
      "metadata": {
        "id": "wgynl8YSq4H0"
      },
      "outputs": [],
      "source": [
        "index_df = cast.set_index([\"name\", \"year\", \"n\"])\n",
        "yr_lst = [val for val in range(1940, 1950)]\n",
        "new_df = index_df.loc[(\"Cary Grant\", yr_lst, 1)].sort_index(ascending = True).reset_index()"
      ]
    },
    {
      "cell_type": "code",
      "execution_count": null,
      "metadata": {
        "id": "O0P-UgRnq4H0",
        "outputId": "4d3542e8-a2db-4954-b346-a0787d18b963"
      },
      "outputs": [
        {
          "data": {
            "text/html": [
              "<div>\n",
              "<style scoped>\n",
              "    .dataframe tbody tr th:only-of-type {\n",
              "        vertical-align: middle;\n",
              "    }\n",
              "\n",
              "    .dataframe tbody tr th {\n",
              "        vertical-align: top;\n",
              "    }\n",
              "\n",
              "    .dataframe thead th {\n",
              "        text-align: right;\n",
              "    }\n",
              "</style>\n",
              "<table border=\"1\" class=\"dataframe\">\n",
              "  <thead>\n",
              "    <tr style=\"text-align: right;\">\n",
              "      <th></th>\n",
              "      <th>name</th>\n",
              "      <th>year</th>\n",
              "      <th>n</th>\n",
              "      <th>title</th>\n",
              "      <th>type</th>\n",
              "      <th>character</th>\n",
              "    </tr>\n",
              "  </thead>\n",
              "  <tbody>\n",
              "    <tr>\n",
              "      <th>0</th>\n",
              "      <td>Cary Grant</td>\n",
              "      <td>1940</td>\n",
              "      <td>1.0</td>\n",
              "      <td>His Girl Friday</td>\n",
              "      <td>actor</td>\n",
              "      <td>Walter Burns</td>\n",
              "    </tr>\n",
              "    <tr>\n",
              "      <th>1</th>\n",
              "      <td>Cary Grant</td>\n",
              "      <td>1940</td>\n",
              "      <td>1.0</td>\n",
              "      <td>The Howards of Virginia</td>\n",
              "      <td>actor</td>\n",
              "      <td>Matt Howard</td>\n",
              "    </tr>\n",
              "    <tr>\n",
              "      <th>2</th>\n",
              "      <td>Cary Grant</td>\n",
              "      <td>1940</td>\n",
              "      <td>1.0</td>\n",
              "      <td>The Philadelphia Story</td>\n",
              "      <td>actor</td>\n",
              "      <td>C. K. Dexter Haven</td>\n",
              "    </tr>\n",
              "    <tr>\n",
              "      <th>3</th>\n",
              "      <td>Cary Grant</td>\n",
              "      <td>1941</td>\n",
              "      <td>1.0</td>\n",
              "      <td>Suspicion</td>\n",
              "      <td>actor</td>\n",
              "      <td>Johnnie</td>\n",
              "    </tr>\n",
              "    <tr>\n",
              "      <th>4</th>\n",
              "      <td>Cary Grant</td>\n",
              "      <td>1942</td>\n",
              "      <td>1.0</td>\n",
              "      <td>Once Upon a Honeymoon</td>\n",
              "      <td>actor</td>\n",
              "      <td>Patrick 'Pat' O'Toole</td>\n",
              "    </tr>\n",
              "    <tr>\n",
              "      <th>5</th>\n",
              "      <td>Cary Grant</td>\n",
              "      <td>1942</td>\n",
              "      <td>1.0</td>\n",
              "      <td>The Talk of the Town</td>\n",
              "      <td>actor</td>\n",
              "      <td>Leopold Dilg</td>\n",
              "    </tr>\n",
              "    <tr>\n",
              "      <th>6</th>\n",
              "      <td>Cary Grant</td>\n",
              "      <td>1943</td>\n",
              "      <td>1.0</td>\n",
              "      <td>Destination Tokyo</td>\n",
              "      <td>actor</td>\n",
              "      <td>Capt. Cassidy</td>\n",
              "    </tr>\n",
              "    <tr>\n",
              "      <th>7</th>\n",
              "      <td>Cary Grant</td>\n",
              "      <td>1943</td>\n",
              "      <td>1.0</td>\n",
              "      <td>Mr. Lucky</td>\n",
              "      <td>actor</td>\n",
              "      <td>Joe Adams</td>\n",
              "    </tr>\n",
              "    <tr>\n",
              "      <th>8</th>\n",
              "      <td>Cary Grant</td>\n",
              "      <td>1943</td>\n",
              "      <td>1.0</td>\n",
              "      <td>Mr. Lucky</td>\n",
              "      <td>actor</td>\n",
              "      <td>Joe Bascopolous</td>\n",
              "    </tr>\n",
              "    <tr>\n",
              "      <th>9</th>\n",
              "      <td>Cary Grant</td>\n",
              "      <td>1944</td>\n",
              "      <td>1.0</td>\n",
              "      <td>Arsenic and Old Lace</td>\n",
              "      <td>actor</td>\n",
              "      <td>Mortimer Brewster</td>\n",
              "    </tr>\n",
              "    <tr>\n",
              "      <th>10</th>\n",
              "      <td>Cary Grant</td>\n",
              "      <td>1944</td>\n",
              "      <td>1.0</td>\n",
              "      <td>None But the Lonely Heart</td>\n",
              "      <td>actor</td>\n",
              "      <td>Ernie Mott</td>\n",
              "    </tr>\n",
              "    <tr>\n",
              "      <th>11</th>\n",
              "      <td>Cary Grant</td>\n",
              "      <td>1944</td>\n",
              "      <td>1.0</td>\n",
              "      <td>Once Upon a Time</td>\n",
              "      <td>actor</td>\n",
              "      <td>Jerry Flynn</td>\n",
              "    </tr>\n",
              "    <tr>\n",
              "      <th>12</th>\n",
              "      <td>Cary Grant</td>\n",
              "      <td>1946</td>\n",
              "      <td>1.0</td>\n",
              "      <td>Night and Day</td>\n",
              "      <td>actor</td>\n",
              "      <td>Cole Porter</td>\n",
              "    </tr>\n",
              "    <tr>\n",
              "      <th>13</th>\n",
              "      <td>Cary Grant</td>\n",
              "      <td>1946</td>\n",
              "      <td>1.0</td>\n",
              "      <td>Notorious</td>\n",
              "      <td>actor</td>\n",
              "      <td>Devlin</td>\n",
              "    </tr>\n",
              "    <tr>\n",
              "      <th>14</th>\n",
              "      <td>Cary Grant</td>\n",
              "      <td>1947</td>\n",
              "      <td>1.0</td>\n",
              "      <td>The Bachelor and the Bobby-Soxer</td>\n",
              "      <td>actor</td>\n",
              "      <td>Dick Nugent</td>\n",
              "    </tr>\n",
              "    <tr>\n",
              "      <th>15</th>\n",
              "      <td>Cary Grant</td>\n",
              "      <td>1947</td>\n",
              "      <td>1.0</td>\n",
              "      <td>The Bishop's Wife</td>\n",
              "      <td>actor</td>\n",
              "      <td>Dudley</td>\n",
              "    </tr>\n",
              "    <tr>\n",
              "      <th>16</th>\n",
              "      <td>Cary Grant</td>\n",
              "      <td>1948</td>\n",
              "      <td>1.0</td>\n",
              "      <td>Every Girl Should Be Married</td>\n",
              "      <td>actor</td>\n",
              "      <td>Dr. Madison Brown</td>\n",
              "    </tr>\n",
              "    <tr>\n",
              "      <th>17</th>\n",
              "      <td>Cary Grant</td>\n",
              "      <td>1948</td>\n",
              "      <td>1.0</td>\n",
              "      <td>Mr. Blandings Builds His Dream House</td>\n",
              "      <td>actor</td>\n",
              "      <td>Jim Blandings</td>\n",
              "    </tr>\n",
              "    <tr>\n",
              "      <th>18</th>\n",
              "      <td>Cary Grant</td>\n",
              "      <td>1949</td>\n",
              "      <td>1.0</td>\n",
              "      <td>I Was a Male War Bride</td>\n",
              "      <td>actor</td>\n",
              "      <td>Captain Henri Rochard</td>\n",
              "    </tr>\n",
              "  </tbody>\n",
              "</table>\n",
              "</div>"
            ],
            "text/plain": [
              "          name  year    n                                 title   type  \\\n",
              "0   Cary Grant  1940  1.0                       His Girl Friday  actor   \n",
              "1   Cary Grant  1940  1.0               The Howards of Virginia  actor   \n",
              "2   Cary Grant  1940  1.0                The Philadelphia Story  actor   \n",
              "3   Cary Grant  1941  1.0                             Suspicion  actor   \n",
              "4   Cary Grant  1942  1.0                 Once Upon a Honeymoon  actor   \n",
              "5   Cary Grant  1942  1.0                  The Talk of the Town  actor   \n",
              "6   Cary Grant  1943  1.0                     Destination Tokyo  actor   \n",
              "7   Cary Grant  1943  1.0                             Mr. Lucky  actor   \n",
              "8   Cary Grant  1943  1.0                             Mr. Lucky  actor   \n",
              "9   Cary Grant  1944  1.0                  Arsenic and Old Lace  actor   \n",
              "10  Cary Grant  1944  1.0             None But the Lonely Heart  actor   \n",
              "11  Cary Grant  1944  1.0                      Once Upon a Time  actor   \n",
              "12  Cary Grant  1946  1.0                         Night and Day  actor   \n",
              "13  Cary Grant  1946  1.0                             Notorious  actor   \n",
              "14  Cary Grant  1947  1.0      The Bachelor and the Bobby-Soxer  actor   \n",
              "15  Cary Grant  1947  1.0                     The Bishop's Wife  actor   \n",
              "16  Cary Grant  1948  1.0          Every Girl Should Be Married  actor   \n",
              "17  Cary Grant  1948  1.0  Mr. Blandings Builds His Dream House  actor   \n",
              "18  Cary Grant  1949  1.0                I Was a Male War Bride  actor   \n",
              "\n",
              "                character  \n",
              "0            Walter Burns  \n",
              "1             Matt Howard  \n",
              "2      C. K. Dexter Haven  \n",
              "3                 Johnnie  \n",
              "4   Patrick 'Pat' O'Toole  \n",
              "5            Leopold Dilg  \n",
              "6           Capt. Cassidy  \n",
              "7               Joe Adams  \n",
              "8         Joe Bascopolous  \n",
              "9       Mortimer Brewster  \n",
              "10             Ernie Mott  \n",
              "11            Jerry Flynn  \n",
              "12            Cole Porter  \n",
              "13                 Devlin  \n",
              "14            Dick Nugent  \n",
              "15                 Dudley  \n",
              "16      Dr. Madison Brown  \n",
              "17          Jim Blandings  \n",
              "18  Captain Henri Rochard  "
            ]
          },
          "execution_count": 54,
          "metadata": {},
          "output_type": "execute_result"
        }
      ],
      "source": [
        "new_df"
      ]
    },
    {
      "cell_type": "markdown",
      "metadata": {
        "collapsed": true,
        "id": "R1KrwYwkq4H1"
      },
      "source": [
        "### How many roles were available for actors in the 1950s?"
      ]
    },
    {
      "cell_type": "code",
      "execution_count": null,
      "metadata": {
        "id": "DEA4yBULq4H2"
      },
      "outputs": [],
      "source": [
        "df1 = cast.set_index(\"year\")\n",
        "yr_lst = [x for x in range(1950, 1960)]\n",
        "df2 = df1.loc[yr_lst]\n",
        "tot_cnt = df2.loc[df2[\"type\"] == \"actor\"].shape[0]"
      ]
    },
    {
      "cell_type": "code",
      "execution_count": null,
      "metadata": {
        "id": "nSJulULjq4H2",
        "outputId": "dd6e9724-f61d-45dc-abcd-92bf118df489"
      },
      "outputs": [
        {
          "name": "stdout",
          "output_type": "stream",
          "text": [
            "Total no of roles that were available for actors in the 1950s is 154727\n"
          ]
        }
      ],
      "source": [
        "print(f\"Total no of roles that were available for actors in the 1950s is {tot_cnt}\")"
      ]
    },
    {
      "cell_type": "markdown",
      "metadata": {
        "collapsed": true,
        "id": "rKvAPQWWq4H3"
      },
      "source": [
        "### How many roles were available for actresses in the 1950s?"
      ]
    },
    {
      "cell_type": "code",
      "execution_count": null,
      "metadata": {
        "id": "RI_Fr35mq4H4"
      },
      "outputs": [],
      "source": [
        "tot_cnt = df2.loc[df2[\"type\"] == \"actress\"].shape[0]"
      ]
    },
    {
      "cell_type": "code",
      "execution_count": null,
      "metadata": {
        "id": "l7SoIaGJq4H5",
        "outputId": "ea008b45-833c-4ebd-d8ce-feb83e3c7849"
      },
      "outputs": [
        {
          "name": "stdout",
          "output_type": "stream",
          "text": [
            "Total no of roles that were available for actors in the 1950s is 56259\n"
          ]
        }
      ],
      "source": [
        "print(f\"Total no of roles that were available for actors in the 1950s is {tot_cnt}\")"
      ]
    },
    {
      "cell_type": "markdown",
      "metadata": {
        "collapsed": true,
        "id": "33sX2CaAq4H6"
      },
      "source": [
        "### How many leading roles (n=1) were available from the beginning of film history through 1980?"
      ]
    },
    {
      "cell_type": "code",
      "execution_count": null,
      "metadata": {
        "id": "RHTefdjtq4H7"
      },
      "outputs": [],
      "source": [
        "df1 = cast.set_index(\"n\")\n",
        "df2 = df1.loc[1]\n",
        "tot_cnt = df2.loc[df2[\"year\"] < 1980].shape[0]"
      ]
    },
    {
      "cell_type": "code",
      "execution_count": null,
      "metadata": {
        "id": "C2nZm74Kq4H7",
        "outputId": "9a392448-f6d6-47e2-ce30-e3d00b98595c"
      },
      "outputs": [
        {
          "name": "stdout",
          "output_type": "stream",
          "text": [
            "Total no of leading roles (n=1) those were available from the begining of film history through 1980 is 62781\n"
          ]
        }
      ],
      "source": [
        "print(f\"Total no of leading roles (n=1) those were available from the begining of film history through 1980 is {tot_cnt}\")"
      ]
    },
    {
      "cell_type": "markdown",
      "metadata": {
        "collapsed": true,
        "id": "NsC2h50-q4H8"
      },
      "source": [
        "### How many non-leading roles were available through from the beginning of film history through 1980?"
      ]
    },
    {
      "cell_type": "code",
      "execution_count": null,
      "metadata": {
        "id": "MGaf-7QCq4H8"
      },
      "outputs": [],
      "source": [
        "cnt = cast.loc[(cast[\"n\"] != 1) & (cast[\"year\"] < 1980)].shape[0]"
      ]
    },
    {
      "cell_type": "code",
      "execution_count": null,
      "metadata": {
        "id": "P5-Us6JDq4H9",
        "outputId": "d2311932-37d3-4242-c3d7-0277c6e4a211"
      },
      "outputs": [
        {
          "name": "stdout",
          "output_type": "stream",
          "text": [
            "Total no of non-leading roles those were available from the begining of film history through 1980 is 1073132\n"
          ]
        }
      ],
      "source": [
        "print(f\"Total no of non-leading roles those were available from the begining of film history through 1980 is {cnt}\")"
      ]
    },
    {
      "cell_type": "markdown",
      "metadata": {
        "collapsed": true,
        "id": "BVuAUYSRq4H9"
      },
      "source": [
        "### How many roles through 1980 were minor enough that they did not warrant a numeric \"n\" rank?"
      ]
    },
    {
      "cell_type": "code",
      "execution_count": null,
      "metadata": {
        "id": "6n1I6DiDq4H-"
      },
      "outputs": [],
      "source": [
        "cnt = cast.loc[(cast[\"n\"].isnull()) & (cast[\"year\"] < 1980)].shape[0]"
      ]
    },
    {
      "cell_type": "code",
      "execution_count": null,
      "metadata": {
        "id": "wV4VWzw2q4H-",
        "outputId": "5446a273-b971-4c40-aa25-c1211cf94242"
      },
      "outputs": [
        {
          "name": "stdout",
          "output_type": "stream",
          "text": [
            "Total no of roles through 1980 were minor enough that they did not warrant a numeric 'n' rank is 433859\n"
          ]
        }
      ],
      "source": [
        "print(f\"Total no of roles through 1980 were minor enough that they did not warrant a numeric 'n' rank is {cnt}\")"
      ]
    },
    {
      "cell_type": "code",
      "source": [
        "# Plot the number of \"Rustler\" characters\n",
        "# in each decade of the history of film.\n",
        "\n",
        "c = cast\n",
        "c = c[c.character == 'Rustler']\n",
        "(c.year // 10 * 10).value_counts().sort_index().plot(kind='bar')"
      ],
      "metadata": {
        "id": "QmI2maElsign"
      },
      "execution_count": null,
      "outputs": []
    },
    {
      "cell_type": "code",
      "source": [
        "# Plot the number of \"Hamlet\" characters each decade.\n",
        "\n",
        "c = cast\n",
        "c = c[c.character == 'Hamlet']\n",
        "(c.year // 10 * 10).value_counts().sort_index().plot(kind='bar')"
      ],
      "metadata": {
        "id": "ieT1UsfXsxRM"
      },
      "execution_count": null,
      "outputs": []
    },
    {
      "cell_type": "code",
      "source": [
        "# What are the 11 most common character names in movie history?\n",
        "\n",
        "cast.character.value_counts().head(11)"
      ],
      "metadata": {
        "id": "nS_oV3rhsx-h"
      },
      "execution_count": null,
      "outputs": []
    },
    {
      "cell_type": "code",
      "source": [
        "# Who are the 10 people most often credited as \"Herself\" in film history?\n",
        "\n",
        "c = cast\n",
        "c[c.character == 'Herself'].name.value_counts().head(10)"
      ],
      "metadata": {
        "id": "66qdM5rjs1gh"
      },
      "execution_count": null,
      "outputs": []
    },
    {
      "cell_type": "code",
      "source": [
        "# Who are the 10 people most often credited as \"Himself\" in film history?\n",
        "\n",
        "c = cast\n",
        "c[c.character == 'Himself'].name.value_counts().head(10)"
      ],
      "metadata": {
        "id": "jBwX0YPps7GN"
      },
      "execution_count": null,
      "outputs": []
    },
    {
      "cell_type": "code",
      "source": [
        "# Which actors or actresses appeared in the most movies in the year 1945?\n",
        "\n",
        "cast[cast.year == 1945].name.value_counts().head(10)"
      ],
      "metadata": {
        "id": "QsSNUiP7s_av"
      },
      "execution_count": null,
      "outputs": []
    },
    {
      "cell_type": "code",
      "source": [
        "# Which actors or actresses appeared in the most movies in the year 1985?\n",
        "\n",
        "cast[cast.year == 1985].name.value_counts().head(10)"
      ],
      "metadata": {
        "id": "uw87dKLvtAKT"
      },
      "execution_count": null,
      "outputs": []
    },
    {
      "cell_type": "code",
      "source": [
        "# Plot how many roles Mammootty has played in each year of his career.\n",
        "\n",
        "cast[cast.name == 'Mammootty'].year.value_counts().sort_index().plot()"
      ],
      "metadata": {
        "id": "epfx8jhFtDKS"
      },
      "execution_count": null,
      "outputs": []
    },
    {
      "cell_type": "code",
      "source": [
        "# What are the 10 most frequent roles that start with the phrase \"Patron in\"?\n",
        "\n",
        "c = cast\n",
        "c[c.character.str.startswith('Patron in ')].character.value_counts().head(10)"
      ],
      "metadata": {
        "id": "-fkvlkg4tGr0"
      },
      "execution_count": null,
      "outputs": []
    },
    {
      "cell_type": "code",
      "source": [
        "# What are the 10 most frequent roles that start with the word \"Science\"?\n",
        "\n",
        "c = cast\n",
        "c[c.character.str.startswith('Science')].character.value_counts().head(10)"
      ],
      "metadata": {
        "id": "2nr_6D-8tOAK"
      },
      "execution_count": null,
      "outputs": []
    },
    {
      "cell_type": "code",
      "source": [
        "# Plot the n-values of the roles that Judi Dench has played over her career.\n",
        "\n",
        "c = cast\n",
        "c = c[c.name == 'Judi Dench']\n",
        "c.plot(x='year', y='n', kind='scatter')"
      ],
      "metadata": {
        "id": "SRA_CnBGtRw2"
      },
      "execution_count": null,
      "outputs": []
    },
    {
      "cell_type": "code",
      "source": [
        "# Plot the n-values of Cary Grant's roles through his career.\n",
        "\n",
        "c = cast\n",
        "c = c[c.name == 'Cary Grant'].sort_values('year')\n",
        "c = c[c.n.notnull()]\n",
        "c.plot(x='year', y='n', kind='scatter')"
      ],
      "metadata": {
        "id": "Y11wE-_etUa0"
      },
      "execution_count": null,
      "outputs": []
    },
    {
      "cell_type": "code",
      "source": [
        "# Plot the n-value of the roles that Sidney Poitier has acted\n",
        "# over the years.\n",
        "\n",
        "c = cast\n",
        "c = c[c.name == 'Sidney Poitier'].sort_values('year')\n",
        "c = c[c.n.notnull()]\n",
        "c.plot(x='year', y='n', kind='scatter')"
      ],
      "metadata": {
        "id": "UBRGku7BtUtq"
      },
      "execution_count": null,
      "outputs": []
    },
    {
      "cell_type": "code",
      "source": [
        "# How many leading (n=1) roles were available to actors,\n",
        "# and how many to actresses, in the 1950s?\n",
        "\n",
        "c = cast\n",
        "c = c[c.year // 10 == 195]\n",
        "c = c[c.n == 1]\n",
        "c.type.value_counts()"
      ],
      "metadata": {
        "id": "Oaa-tAsTtWwu"
      },
      "execution_count": null,
      "outputs": []
    },
    {
      "cell_type": "code",
      "source": [
        "# How many supporting (n=2) roles were available to actors,\n",
        "# and how many to actresses, in the 1950s?\n",
        "\n",
        "c = cast\n",
        "c = c[c.year // 10 == 195]\n",
        "c = c[c.n == 2]\n",
        "c.type.value_counts()"
      ],
      "metadata": {
        "id": "1WxDRDWwtaHZ"
      },
      "execution_count": null,
      "outputs": []
    }
  ],
  "metadata": {
    "kernelspec": {
      "display_name": "Python 3 (ipykernel)",
      "language": "python",
      "name": "python3"
    },
    "language_info": {
      "codemirror_mode": {
        "name": "ipython",
        "version": 3
      },
      "file_extension": ".py",
      "mimetype": "text/x-python",
      "name": "python",
      "nbconvert_exporter": "python",
      "pygments_lexer": "ipython3",
      "version": "3.10.4"
    },
    "colab": {
      "provenance": []
    }
  },
  "nbformat": 4,
  "nbformat_minor": 0
}